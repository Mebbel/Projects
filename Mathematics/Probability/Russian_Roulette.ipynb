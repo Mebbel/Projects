{
 "cells": [
  {
   "cell_type": "markdown",
   "metadata": {},
   "source": [
    "# Russian roulette\n",
    "\n",
    "There are \"n\" armed men in a room. They will try to kill exactly one person each round until there is noone left to be shot (no suicide!) \n",
    "\n",
    "Q: How does the probability that one person survives changes with increasing n?"
   ]
  },
  {
   "cell_type": "code",
   "execution_count": 67,
   "metadata": {},
   "outputs": [],
   "source": [
    "# Libraries\n",
    "from random import choices, sample\n",
    "\n",
    "import numpy as np\n",
    "\n",
    "import seaborn as sns\n",
    "import matplotlib.pyplot as plt"
   ]
  },
  {
   "cell_type": "code",
   "execution_count": 36,
   "metadata": {},
   "outputs": [],
   "source": [
    "# Settings\n",
    "\n",
    "# Number of armed men in the room\n",
    "n_people = 10\n",
    "n_samples = 10\n",
    "\n",
    "# For each n in the list, and each scenario: track how many people survived\n",
    "\n",
    "people_survived = {i:0 for i in range(n_samples)}"
   ]
  },
  {
   "cell_type": "code",
   "execution_count": 49,
   "metadata": {},
   "outputs": [],
   "source": [
    "# Store simulation results\n",
    "def run_simu(n_people, n_samples):\n",
    "\n",
    "    # Repeat simulation\n",
    "    for s in range(n_samples):\n",
    "\n",
    "        # Only in first round - every one is still alive\n",
    "        people_alive = [i for i in range(n_people)]\n",
    "\n",
    "        # For each person in the room - select a target person to shoot at!\n",
    "        # Loop until noone is left\n",
    "        while (len(people_alive) > 1):\n",
    "\n",
    "            people_shoot = []\n",
    "\n",
    "            # Each person alive, selects another person at random to shoot at\n",
    "            for i in people_alive:\n",
    "                # Select person to shoot\n",
    "                target_i = choices(list(set(people_alive).difference({i})), k = 1)\n",
    "                # Add to people being shot\n",
    "                people_shoot.append(target_i[0])\n",
    "\n",
    "\n",
    "            # Select survivors\n",
    "            people_alive = list(set(people_alive).difference(set(people_shoot)))\n",
    "\n",
    "        people_survived[s] = len(people_alive)\n",
    "\n",
    "    # Analyze simulation results\n",
    "    # Probability that one person survives\n",
    "\n",
    "    return np.mean([i for i in people_survived.values()])\n"
   ]
  },
  {
   "cell_type": "code",
   "execution_count": 64,
   "metadata": {},
   "outputs": [],
   "source": [
    "# Repeat for different n\n",
    "probs_survive = [run_simu(i, 10000) for i in range(5, 50, 1)]\n"
   ]
  },
  {
   "cell_type": "code",
   "execution_count": 73,
   "metadata": {},
   "outputs": [
    {
     "data": {
      "text/plain": [
       "(0.0, 1.0)"
      ]
     },
     "execution_count": 73,
     "metadata": {},
     "output_type": "execute_result"
    },
    {
     "data": {
      "image/png": "[encoded data removed]",
      "text/plain": [
       "<Figure size 640x480 with 1 Axes>"
      ]
     },
     "metadata": {},
     "output_type": "display_data"
    }
   ],
   "source": [
    "# Visualize results\n",
    "sns.lineplot(x = range(5, 50, 1), y = probs_survive)\n",
    "plt.ylim([0, 1])"
   ]
  }
 ],
 "metadata": {
  "kernelspec": {
   "display_name": ".venv",
   "language": "python",
   "name": "python3"
  },
  "language_info": {
   "codemirror_mode": {
    "name": "ipython",
    "version": 3
   },
   "file_extension": ".py",
   "mimetype": "text/x-python",
   "name": "python",
   "nbconvert_exporter": "python",
   "pygments_lexer": "ipython3",
   "version": "3.8.10"
  }
 },
 "nbformat": 4,
 "nbformat_minor": 2
}
