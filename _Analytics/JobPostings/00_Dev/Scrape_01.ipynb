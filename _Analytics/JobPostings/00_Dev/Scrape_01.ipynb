{
 "metadata": {
  "language_info": {
   "codemirror_mode": {
    "name": "ipython",
    "version": 3
   },
   "file_extension": ".py",
   "mimetype": "text/x-python",
   "name": "python",
   "nbconvert_exporter": "python",
   "pygments_lexer": "ipython3",
   "version": "3.7.4"
  },
  "orig_nbformat": 2,
  "kernelspec": {
   "name": "python3",
   "display_name": "Python 3.7.4 64-bit",
   "metadata": {
    "interpreter": {
     "hash": "6f8f8dfa3d6290feb0c1028a85bed96da6057876656056d6327598ed79055708"
    }
   }
  }
 },
 "nbformat": 4,
 "nbformat_minor": 2,
 "cells": [
  {
   "cell_type": "code",
   "execution_count": 25,
   "metadata": {},
   "outputs": [],
   "source": [
    "# https://github.com/chris-lovejoy/job-scraper/blob/master/job_scraper.py\n",
    "import urllib\n",
    "import requests\n",
    "from bs4 import BeautifulSoup\n",
    "import selenium\n",
    "from selenium import webdriver\n",
    "from selenium.webdriver.support.ui import WebDriverWait\n",
    "import pandas as pd\n",
    "import os\n",
    "\n",
    "import time\n",
    "\n"
   ]
  },
  {
   "cell_type": "code",
   "execution_count": 40,
   "metadata": {},
   "outputs": [],
   "source": [
    "job_title = \"Data Analyst\"\n",
    "location = \"London\"\n",
    "\n",
    "# Loop over several pages until there no results returned.\n",
    "# indeed returns 10 results per page\n",
    "\n",
    "getVars = {'q' : job_title, 'l' : location, 'fromage' : 'last', 'sort' : 'date', 'start' : 0}\n",
    "url = ('https://www.indeed.co.uk/jobs?' + urllib.parse.urlencode(getVars))\n",
    "page = requests.get(url)\n",
    "soup = BeautifulSoup(page.content, \"html.parser\")\n",
    "job_soup = soup.find(id=\"resultsCol\")\n"
   ]
  },
  {
   "cell_type": "code",
   "execution_count": null,
   "metadata": {},
   "outputs": [],
   "source": []
  },
  {
   "cell_type": "code",
   "execution_count": 51,
   "metadata": {},
   "outputs": [],
   "source": [
    "# Functions to extract parts of the job\n",
    "def extract_title_indeed(job_elem):\n",
    "    title_elem = job_elem.find('h2', class_='title')\n",
    "    title = title_elem.text.strip()\n",
    "    return title\n",
    "\n",
    "def extract_company_indeed(job_elem):\n",
    "    company_elem = job_elem.find('span', class_='company')\n",
    "    company = company_elem.text.strip()\n",
    "    return(company)\n",
    "\n",
    "def extract_link_indeed(job_elem):\n",
    "    link_elem = job_elem.find('a')['href']\n",
    "    link = link_elem\n",
    "    return link\n",
    "\n",
    "def extract_date_indeed(job_elem):\n",
    "    date_elem = job_elem.find('span', class_='date')\n",
    "    date = date_elem.text.strip()\n",
    "    return(date)\n",
    "\n",
    "\n",
    "\n",
    "# ToDo: ID // Description // Agency?\n",
    "# Check this one for job description: https://towardsdatascience.com/web-scraping-job-postings-from-indeed-com-using-selenium-5ae58d155daf\n",
    "\n",
    "\n",
    "\n",
    "\n",
    "def get_indeed(indeed_country_url, job_title, location, n_page_max):\n",
    "\n",
    "    # Possible elements of job description -> do we need this?\n",
    "    elem_select = ['titles', 'companies', 'links', 'date_listed']\n",
    "\n",
    "    # Initialize collection dict\n",
    "    results = {}\n",
    "\n",
    "    # Start with page 1\n",
    "    n_page = 1\n",
    "\n",
    "    # Loop over possible page results\n",
    "    while n_page <= n_page_max:\n",
    "\n",
    "        getVars = {'q' : job_title, 'l' : location, 'fromage' : 'last', 'sort' : 'date', 'start' : (n_page - 1) * 10}\n",
    "        url = (indeed_country_url + urllib.parse.urlencode(getVars))\n",
    "        page = requests.get(url)\n",
    "        soup = BeautifulSoup(page.content, \"html.parser\")\n",
    "        job_soup = soup.find(id = \"resultsCol\")\n",
    "\n",
    "        # Get all elements \n",
    "        job_elems = job_soup.find_all('div', class_='jobsearch-SerpJobCard')\n",
    "        \n",
    "        # Initialize collectors\n",
    "        titles = []\n",
    "        companies = []\n",
    "        links = []\n",
    "        date_listed = []\n",
    "\n",
    "        for job_elem in job_elems:\n",
    "            titles.append(extract_title_indeed(job_elem))\n",
    "            companies.append(extract_company_indeed(job_elem))\n",
    "            links.append(extract_link_indeed(job_elem))\n",
    "            date_listed.append(extract_date_indeed(job_elem))\n",
    "\n",
    "        results['titles'] = titles\n",
    "        results['companies'] = companies\n",
    "        results['link'] = links\n",
    "        results['date_listed'] = date_listed\n",
    "\n",
    "        # Follow link of each job element to extract details from the job description webpage\n",
    "\n",
    "\n",
    "        # Next \n",
    "        n_page += 1\n",
    "\n",
    "        # Sleep for 1 second\n",
    "        time.sleep(1)\n",
    "\n",
    "    return results\n",
    "\n",
    "\n",
    "\n",
    "\n",
    "\n"
   ]
  },
  {
   "cell_type": "code",
   "execution_count": 56,
   "metadata": {},
   "outputs": [
    {
     "output_type": "execute_result",
     "data": {
      "text/plain": [
       "<div class=\"jobsearch-SerpJobCard unifiedRow row result\" data-jk=\"ca58b39fdfcd8c33\" data-tn-component=\"organicJob\" id=\"p_ca58b39fdfcd8c33\">\n",
       "<h2 class=\"title\">\n",
       "<a class=\"jobtitle turnstileLink\" data-tn-element=\"jobTitle\" href=\"/rc/clk?jk=ca58b39fdfcd8c33&amp;fccid=5e964c4afc56b180&amp;vjs=3\" id=\"jl_ca58b39fdfcd8c33\" onclick=\"setRefineByCookie([]); return rclk(this,jobmap[0],true,0);\" onmousedown=\"return rclk(this,jobmap[0],0);\" rel=\"noopener nofollow\" target=\"_blank\" title=\"Data and Analytics Academy\">\n",
       "<b>Data</b> and Analytics Academy</a>\n",
       "<span class=\"new\">new</span></h2>\n",
       "<div class=\"sjcl\">\n",
       "<div>\n",
       "<span class=\"company\">\n",
       "<a class=\"turnstileLink\" data-tn-element=\"companyName\" href=\"/cmp/Pwc\" onmousedown=\"this.href = appendParamsOnce(this.href, 'from=SERP&amp;campaignid=serp-linkcompanyname&amp;fromjk=ca58b39fdfcd8c33&amp;jcid=5e964c4afc56b180')\" rel=\"noopener\" target=\"_blank\">\n",
       "PwC</a></span>\n",
       "<span class=\"ratingsDisplay\">\n",
       "<a class=\"ratingNumber\" data-tn-variant=\"cmplinktst2\" href=\"/cmp/Pwc/reviews\" onmousedown=\"this.href = appendParamsOnce(this.href, '?campaignid=cmplinktst2&amp;from=SERP&amp;jt=Data+and+Analytics+Academy&amp;fromjk=ca58b39fdfcd8c33&amp;jcid=5e964c4afc56b180');\" rel=\"noopener\" target=\"_blank\" title=\"Pwc reviews\">\n",
       "<span class=\"ratingsContent\">\n",
       "4.0<svg class=\"starIcon\" height=\"12px\" role=\"img\" width=\"12px\">\n",
       "<g>\n",
       "<path d=\"M 12.00,4.34 C 12.00,4.34 7.69,3.97 7.69,3.97 7.69,3.97 6.00,0.00 6.00,0.00 6.00,0.00 4.31,3.98 4.31,3.98 4.31,3.98 0.00,4.34 0.00,4.34 0.00,4.34 3.28,7.18 3.28,7.18 3.28,7.18 2.29,11.40 2.29,11.40 2.29,11.40 6.00,9.16 6.00,9.16 6.00,9.16 9.71,11.40 9.71,11.40 9.71,11.40 8.73,7.18 8.73,7.18 8.73,7.18 12.00,4.34 12.00,4.34 Z\" style=\"fill: #FFB103\"></path>\n",
       "</g>\n",
       "</svg>\n",
       "</span>\n",
       "</a>\n",
       "</span>\n",
       "</div>\n",
       "<div class=\"recJobLoc\" data-rc-loc=\"London\" id=\"recJobLoc_ca58b39fdfcd8c33\" style=\"display: none\"></div>\n",
       "<span class=\"location accessible-contrast-color-location\">London</span>\n",
       "</div>\n",
       "<div class=\"summary\">\n",
       "<ul style=\"list-style-type:circle;margin-top: 0px;margin-bottom: 0px;padding-left:20px;\">\n",
       "<li style=\"margin-bottom:0px;\">They need the skills to understand and leverage the information they hold.</li>\n",
       "<li>The nine week Academy training commences on 17 May and finishes on 23 July 2021.</li>\n",
       "</ul></div>\n",
       "<div class=\"jobsearch-SerpJobCard-footer\">\n",
       "<div class=\"jobsearch-SerpJobCard-footerActions\">\n",
       "<div class=\"result-link-bar-container\">\n",
       "<div class=\"result-link-bar\"><span class=\"date date-a11y\">Just posted</span><div class=\"tt_set\" id=\"tt_set_0\"><div class=\"job-reaction\"><button aria-expanded=\"false\" aria-haspopup=\"true\" aria-label=\"save or dislike\" class=\"job-reaction-kebab\" data-ol-has-click-handler=\"\" onclick=\"toggleKebabMenu('ca58b39fdfcd8c33', false, event); return false;\" tabindex=\"0\"></button><span class=\"job-reaction-kebab-menu\"><button class=\"job-reaction-kebab-item job-reaction-save\" data-ol-has-click-handler=\"\" onclick=\"changeJobState('ca58b39fdfcd8c33', 'save', 'linkbar', false, '');return false;\"><svg focusable=\"false\" height=\"16\" viewbox=\"0 0 24 24\" width=\"16\"><g><path d=\"M16.5,3A6,6,0,0,0,12,5.09,6,6,0,0,0,7.5,3,5.45,5.45,0,0,0,2,8.5C2,12.28,5.4,15.36,10.55,20L12,21.35,13.45,20C18.6,15.36,22,12.28,22,8.5A5.45,5.45,0,0,0,16.5,3ZM12.1,18.55l-0.1.1-0.1-.1C7.14,14.24,4,11.39,4,8.5A3.42,3.42,0,0,1,7.5,5a3.91,3.91,0,0,1,3.57,2.36h1.87A3.88,3.88,0,0,1,16.5,5,3.42,3.42,0,0,1,20,8.5C20,11.39,16.86,14.24,12.1,18.55Z\" fill=\"#2d2d2d\"></path></g></svg><span class=\"job-reaction-kebab-item-text\">Save job</span></button><button class=\"job-reaction-kebab-item job-reaction-dislike\" data-ol-has-click-handler=\"\" onclick=\"dislikeJob(false, false, 'ca58b39fdfcd8c33', 'unsave', 'linkbar', false, '');\"><span class=\"job-reaction-dislike-icon\"></span><span class=\"job-reaction-kebab-item-text\">Not interested</span></button><button class=\"job-reaction-kebab-item job-reaction-report\" onclick=\"reportJob('ca58b39fdfcd8c33');\"><span class=\"job-reaction-report-icon\"></span><span class=\"job-reaction-kebab-item-text\">Report job</span></button></span></div><span class=\"result-link-bar-separator\">·</span><a class=\"sl resultLink save-job-link\" href=\"#\" id=\"sj_ca58b39fdfcd8c33\" onclick=\"changeJobState('ca58b39fdfcd8c33', 'save', 'linkbar', false, ''); return false;\" title=\"Save this job to my.indeed\">Save job</a><span class=\"result-link-bar-separator\">·</span><button aria-expanded=\"false\" class=\"sl resultLink more-link\" id=\"tog_0\" onclick=\"toggleMoreLinks('ca58b39fdfcd8c33', '0'); return false;\">More...</button></div><script>if (!window['result_ca58b39fdfcd8c33']) {window['result_ca58b39fdfcd8c33'] = {};}window['result_ca58b39fdfcd8c33']['showSource'] = false; window['result_ca58b39fdfcd8c33']['source'] = \"PwC\"; window['result_ca58b39fdfcd8c33']['loggedIn'] = false; window['result_ca58b39fdfcd8c33']['showMyJobsLinks'] = false;window['result_ca58b39fdfcd8c33']['baseMyJobsUrl'] = \"https://myjobs.indeed.com\";window['result_ca58b39fdfcd8c33']['undoAction'] = \"unsave\";window['result_ca58b39fdfcd8c33']['relativeJobAge'] = \"Just posted\";window['result_ca58b39fdfcd8c33']['jobKey'] = \"ca58b39fdfcd8c33\"; window['result_ca58b39fdfcd8c33']['myIndeedAvailable'] = true; window['result_ca58b39fdfcd8c33']['showMoreActionsLink'] = window['result_ca58b39fdfcd8c33']['showMoreActionsLink'] || true; window['result_ca58b39fdfcd8c33']['resultNumber'] = 0; window['result_ca58b39fdfcd8c33']['jobStateChangedToSaved'] = false; window['result_ca58b39fdfcd8c33']['searchState'] = \"q=Data Analyst&amp;l=London&amp;sort=date&amp;fromage=last&amp;start=0\"; window['result_ca58b39fdfcd8c33']['basicPermaLink'] = \"https://uk.indeed.com\"; window['result_ca58b39fdfcd8c33']['saveJobFailed'] = false; window['result_ca58b39fdfcd8c33']['removeJobFailed'] = false; window['result_ca58b39fdfcd8c33']['requestPending'] = false; window['result_ca58b39fdfcd8c33']['currentPage'] = \"serp\"; window['result_ca58b39fdfcd8c33']['sponsored'] = false;window['result_ca58b39fdfcd8c33']['reportJobButtonEnabled'] = false; window['result_ca58b39fdfcd8c33']['showMyJobsHired'] = false; window['result_ca58b39fdfcd8c33']['showSaveForSponsored'] = false; window['result_ca58b39fdfcd8c33']['showJobAge'] = true; window['result_ca58b39fdfcd8c33']['showHolisticCard'] = true; window['result_ca58b39fdfcd8c33']['showDislike'] = true; window['result_ca58b39fdfcd8c33']['showKebab'] = true; window['result_ca58b39fdfcd8c33']['showReport'] = true;</script></div></div>\n",
       "</div>\n",
       "</div>\n",
       "<div class=\"tab-container\">\n",
       "<div class=\"more-links-container result-tab\" id=\"tt_display_0\" style=\"display:none;\"><div class=\"more_actions\" id=\"more_0\"><ul><li><span class=\"mat\">View all <a href=\"/Pwc-jobs\">PwC jobs</a> - <a href=\"/jobs-in-London\">London jobs</a></span></li><li><span class=\"mat\">See popular <a href=\"/cmp/Pwc/faq\" onmousedown=\"this.href = appendParamsOnce(this.href, '?from=serp-more&amp;campaignid=serp-more&amp;fromjk=ca58b39fdfcd8c33&amp;jcid=5e964c4afc56b180');\">questions &amp; answers about PwC</a></span></li></ul></div><a class=\"close-link closeLink\" href=\"#\" onclick=\"toggleMoreLinks('ca58b39fdfcd8c33'); return false;\" title=\"Close\"></a></div><div class=\"dya-container result-tab\"></div>\n",
       "<div class=\"tellafriend-container result-tab email_job_content\"></div>\n",
       "<div class=\"sign-in-container result-tab\"></div>\n",
       "</div>\n",
       "</div>"
      ]
     },
     "metadata": {},
     "execution_count": 56
    }
   ],
   "source": [
    "job_elems = job_soup.find_all('div', class_='jobsearch-SerpJobCard')\n",
    "job_elem = job_elems[0]\n",
    "job_elem\n",
    "\n",
    "https://www.indeed.co.uk/rc/clk?jk=ca58b39fdfcd8c33&amp;fccid=5e964c4afc56b180&amp;vjs=3"
   ]
  },
  {
   "cell_type": "code",
   "execution_count": 32,
   "metadata": {},
   "outputs": [],
   "source": [
    "titles = get_indeed(indeed_country_url = 'https://www.indeed.co.uk/jobs?', job_title = \"Data\", location = \"London\", n_page_max = 3)"
   ]
  },
  {
   "cell_type": "code",
   "execution_count": 47,
   "metadata": {},
   "outputs": [],
   "source": [
    "titles = get_indeed(indeed_country_url = 'https://de.indeed.com/jobs?', job_title = \"Data\", location = \"Munich\", n_page_max = 1)"
   ]
  },
  {
   "cell_type": "code",
   "execution_count": 52,
   "metadata": {},
   "outputs": [],
   "source": [
    "titles = get_indeed(indeed_country_url = 'https://indeed.com/jobs?', job_title = \"Data\", location = \"Boston\", n_page_max = 1)"
   ]
  },
  {
   "cell_type": "code",
   "execution_count": 53,
   "metadata": {},
   "outputs": [
    {
     "output_type": "execute_result",
     "data": {
      "text/plain": [
       "                                               titles  \\\n",
       "0                                Research Intern\\nnew   \n",
       "1       Senior Program Manager, Data & Analytics\\nnew   \n",
       "2                            Enterprisewide Mgmt\\nnew   \n",
       "3                       Ops Services Coordinator\\nnew   \n",
       "4   Commercial Strategy and Operations Associate\\nnew   \n",
       "5                                 Science Writer\\nnew   \n",
       "6       Senior HR Shared Services Representative\\nnew   \n",
       "7   Research Assistant/Clinical Training Program A...   \n",
       "8             VP, Responsible Investment Analyst\\nnew   \n",
       "9                      HR Preboarding Specialist\\nnew   \n",
       "10                  Manager, Consulting & Events\\nnew   \n",
       "11                                          Dean\\nnew   \n",
       "12                         Laboratory Technician\\nnew   \n",
       "13        Medical Communications Project Manager\\nnew   \n",
       "14           Business Analyst, Quality Assurance\\nnew   \n",
       "\n",
       "                                     companies  \\\n",
       "0                          Perceptive Automata   \n",
       "1                                 ENGIE Impact   \n",
       "2                                   Sonos, Inc   \n",
       "3                          Tatte Bakery & Cafe   \n",
       "4                                 Athenahealth   \n",
       "5          Massachusetts General Hospital(MGH)   \n",
       "6                                      LogMeIn   \n",
       "7   Planned Parenthood League of Massachusetts   \n",
       "8                      Amundi Asset Management   \n",
       "9                      Brown Brothers Harriman   \n",
       "10                              Boston Red Sox   \n",
       "11           Wentworth Institute of Technology   \n",
       "12                          Harvard University   \n",
       "13                         Pharmica Consulting   \n",
       "14                            Timepayment Corp   \n",
       "\n",
       "                                                 link  date_listed  \n",
       "0   /rc/clk?jk=934236da4bdff168&fccid=a2b1f7c3f77a...  Just posted  \n",
       "1   /rc/clk?jk=2623bff73fc55a04&fccid=6ae3fd9d9bc6...  Just posted  \n",
       "2   /rc/clk?jk=fc7f1de6cc346d45&fccid=a3ad90904ce5...  Just posted  \n",
       "3   /rc/clk?jk=2aa7b9b5828f8b80&fccid=b58d68165da1...  Just posted  \n",
       "4   /rc/clk?jk=2845a28305d046d7&fccid=ca123abbc3ea...  Just posted  \n",
       "5   /rc/clk?jk=defab6446c939994&fccid=3aaabf5c54e5...  Just posted  \n",
       "6   /rc/clk?jk=1f3d1b56718c6db5&fccid=b665f01429fa...  Just posted  \n",
       "7   /rc/clk?jk=2a1d75b5163c731b&fccid=dda6e6eeb880...  Just posted  \n",
       "8   /rc/clk?jk=c621f3fc6fbadb37&fccid=25a60394650c...  Just posted  \n",
       "9   /rc/clk?jk=2770b6c5e0a860c8&fccid=6b4d8589813e...  Just posted  \n",
       "10  /rc/clk?jk=206bb0020d394d86&fccid=64f09402c2ec...  Just posted  \n",
       "11  /company/Wentworth-Institute-of-Technology/job...  Just posted  \n",
       "12  /rc/clk?jk=7bb9ba9fc638547b&fccid=5507a6440469...  Just posted  \n",
       "13  /rc/clk?jk=e5e2b991ea7ed230&fccid=c7d14fe16fcd...  Just posted  \n",
       "14  /rc/clk?jk=e8ab9257bd4476e0&fccid=52e3e2d68064...  Just posted  "
      ],
      "text/html": "<div>\n<style scoped>\n    .dataframe tbody tr th:only-of-type {\n        vertical-align: middle;\n    }\n\n    .dataframe tbody tr th {\n        vertical-align: top;\n    }\n\n    .dataframe thead th {\n        text-align: right;\n    }\n</style>\n<table border=\"1\" class=\"dataframe\">\n  <thead>\n    <tr style=\"text-align: right;\">\n      <th></th>\n      <th>titles</th>\n      <th>companies</th>\n      <th>link</th>\n      <th>date_listed</th>\n    </tr>\n  </thead>\n  <tbody>\n    <tr>\n      <th>0</th>\n      <td>Research Intern\\nnew</td>\n      <td>Perceptive Automata</td>\n      <td>/rc/clk?jk=934236da4bdff168&amp;fccid=a2b1f7c3f77a...</td>\n      <td>Just posted</td>\n    </tr>\n    <tr>\n      <th>1</th>\n      <td>Senior Program Manager, Data &amp; Analytics\\nnew</td>\n      <td>ENGIE Impact</td>\n      <td>/rc/clk?jk=2623bff73fc55a04&amp;fccid=6ae3fd9d9bc6...</td>\n      <td>Just posted</td>\n    </tr>\n    <tr>\n      <th>2</th>\n      <td>Enterprisewide Mgmt\\nnew</td>\n      <td>Sonos, Inc</td>\n      <td>/rc/clk?jk=fc7f1de6cc346d45&amp;fccid=a3ad90904ce5...</td>\n      <td>Just posted</td>\n    </tr>\n    <tr>\n      <th>3</th>\n      <td>Ops Services Coordinator\\nnew</td>\n      <td>Tatte Bakery &amp; Cafe</td>\n      <td>/rc/clk?jk=2aa7b9b5828f8b80&amp;fccid=b58d68165da1...</td>\n      <td>Just posted</td>\n    </tr>\n    <tr>\n      <th>4</th>\n      <td>Commercial Strategy and Operations Associate\\nnew</td>\n      <td>Athenahealth</td>\n      <td>/rc/clk?jk=2845a28305d046d7&amp;fccid=ca123abbc3ea...</td>\n      <td>Just posted</td>\n    </tr>\n    <tr>\n      <th>5</th>\n      <td>Science Writer\\nnew</td>\n      <td>Massachusetts General Hospital(MGH)</td>\n      <td>/rc/clk?jk=defab6446c939994&amp;fccid=3aaabf5c54e5...</td>\n      <td>Just posted</td>\n    </tr>\n    <tr>\n      <th>6</th>\n      <td>Senior HR Shared Services Representative\\nnew</td>\n      <td>LogMeIn</td>\n      <td>/rc/clk?jk=1f3d1b56718c6db5&amp;fccid=b665f01429fa...</td>\n      <td>Just posted</td>\n    </tr>\n    <tr>\n      <th>7</th>\n      <td>Research Assistant/Clinical Training Program A...</td>\n      <td>Planned Parenthood League of Massachusetts</td>\n      <td>/rc/clk?jk=2a1d75b5163c731b&amp;fccid=dda6e6eeb880...</td>\n      <td>Just posted</td>\n    </tr>\n    <tr>\n      <th>8</th>\n      <td>VP, Responsible Investment Analyst\\nnew</td>\n      <td>Amundi Asset Management</td>\n      <td>/rc/clk?jk=c621f3fc6fbadb37&amp;fccid=25a60394650c...</td>\n      <td>Just posted</td>\n    </tr>\n    <tr>\n      <th>9</th>\n      <td>HR Preboarding Specialist\\nnew</td>\n      <td>Brown Brothers Harriman</td>\n      <td>/rc/clk?jk=2770b6c5e0a860c8&amp;fccid=6b4d8589813e...</td>\n      <td>Just posted</td>\n    </tr>\n    <tr>\n      <th>10</th>\n      <td>Manager, Consulting &amp; Events\\nnew</td>\n      <td>Boston Red Sox</td>\n      <td>/rc/clk?jk=206bb0020d394d86&amp;fccid=64f09402c2ec...</td>\n      <td>Just posted</td>\n    </tr>\n    <tr>\n      <th>11</th>\n      <td>Dean\\nnew</td>\n      <td>Wentworth Institute of Technology</td>\n      <td>/company/Wentworth-Institute-of-Technology/job...</td>\n      <td>Just posted</td>\n    </tr>\n    <tr>\n      <th>12</th>\n      <td>Laboratory Technician\\nnew</td>\n      <td>Harvard University</td>\n      <td>/rc/clk?jk=7bb9ba9fc638547b&amp;fccid=5507a6440469...</td>\n      <td>Just posted</td>\n    </tr>\n    <tr>\n      <th>13</th>\n      <td>Medical Communications Project Manager\\nnew</td>\n      <td>Pharmica Consulting</td>\n      <td>/rc/clk?jk=e5e2b991ea7ed230&amp;fccid=c7d14fe16fcd...</td>\n      <td>Just posted</td>\n    </tr>\n    <tr>\n      <th>14</th>\n      <td>Business Analyst, Quality Assurance\\nnew</td>\n      <td>Timepayment Corp</td>\n      <td>/rc/clk?jk=e8ab9257bd4476e0&amp;fccid=52e3e2d68064...</td>\n      <td>Just posted</td>\n    </tr>\n  </tbody>\n</table>\n</div>"
     },
     "metadata": {},
     "execution_count": 53
    }
   ],
   "source": [
    "pd.DataFrame.from_dict(titles)"
   ]
  },
  {
   "cell_type": "code",
   "execution_count": 54,
   "metadata": {},
   "outputs": [
    {
     "output_type": "execute_result",
     "data": {
      "text/plain": [
       "'/rc/clk?jk=934236da4bdff168&fccid=a2b1f7c3f77a78d6&vjs=3'"
      ]
     },
     "metadata": {},
     "execution_count": 54
    }
   ],
   "source": [
    "titles['link'][0]"
   ]
  },
  {
   "cell_type": "code",
   "execution_count": 15,
   "metadata": {},
   "outputs": [],
   "source": [
    "\n",
    "\n",
    "job_elems = job_soup.find_all('div', class_='jobsearch-SerpJobCard')\n",
    "     \n",
    "cols = []\n",
    "extracted_info = []\n",
    "\n",
    "def extract_job_title_indeed(job_elem):\n",
    "    title_elem = job_elem.find('h2', class_='title')\n",
    "    title = title_elem.text.strip()\n",
    "    return title\n",
    "\n",
    "if 'titles' in desired_characs:\n",
    "    titles = []\n",
    "    cols.append('titles')\n",
    "    for job_elem in job_elems:\n",
    "        titles.append(extract_job_title_indeed(job_elem))\n",
    "    extracted_info.append(titles)  \n",
    "\n",
    "jobs_list = {}\n",
    "    \n",
    "for j in range(len(cols)):\n",
    "    jobs_list[cols[j]] = extracted_info[j]\n",
    "\n",
    "num_listings = len(extracted_info[0]) \n"
   ]
  },
  {
   "cell_type": "code",
   "execution_count": 16,
   "metadata": {
    "tags": []
   },
   "outputs": [
    {
     "output_type": "execute_result",
     "data": {
      "text/plain": [
       "{'titles': ['Data and Analytics Academy\\nnew',\n",
       "  'Global Data - Exchanges Content Analyst\\nnew',\n",
       "  'Data Analyst, FIS University Program\\nnew',\n",
       "  'Microbiology Analyst\\nnew',\n",
       "  'Guidewire Data Analyst\\nnew',\n",
       "  'Trainee Business Intelligence Opportunity - Conference Produ...\\nnew',\n",
       "  'Lead Business & Data Analyst\\nnew',\n",
       "  'AppleCare Business Development Commercial Analyst\\nnew',\n",
       "  'Business Insight Analyst London\\nnew',\n",
       "  'Risk and Data Analyst, Credit Trading\\nnew',\n",
       "  'CIB Chief Data & Analytics Office - Business Management - VP\\nnew',\n",
       "  'Prudential Risk Management Associate/Analyst\\nnew',\n",
       "  'Business Information Analyst\\nnew',\n",
       "  'BUSINESS READINESS ANALYST\\nnew',\n",
       "  'Lead HR Analyst - IB Global Markets\\nnew']}"
      ]
     },
     "metadata": {},
     "execution_count": 16
    }
   ],
   "source": [
    "jobs_list\n"
   ]
  },
  {
   "cell_type": "code",
   "execution_count": 20,
   "metadata": {},
   "outputs": [
    {
     "output_type": "execute_result",
     "data": {
      "text/plain": [
       "[['Data and Analytics Academy\\nnew',\n",
       "  'Global Data - Exchanges Content Analyst\\nnew',\n",
       "  'Data Analyst, FIS University Program\\nnew',\n",
       "  'Microbiology Analyst\\nnew',\n",
       "  'Guidewire Data Analyst\\nnew',\n",
       "  'Trainee Business Intelligence Opportunity - Conference Produ...\\nnew',\n",
       "  'Lead Business & Data Analyst\\nnew',\n",
       "  'AppleCare Business Development Commercial Analyst\\nnew',\n",
       "  'Business Insight Analyst London\\nnew',\n",
       "  'Risk and Data Analyst, Credit Trading\\nnew',\n",
       "  'CIB Chief Data & Analytics Office - Business Management - VP\\nnew',\n",
       "  'Prudential Risk Management Associate/Analyst\\nnew',\n",
       "  'Business Information Analyst\\nnew',\n",
       "  'BUSINESS READINESS ANALYST\\nnew',\n",
       "  'Lead HR Analyst - IB Global Markets\\nnew']]"
      ]
     },
     "metadata": {},
     "execution_count": 20
    }
   ],
   "source": [
    "extracted_info"
   ]
  }
 ]
}