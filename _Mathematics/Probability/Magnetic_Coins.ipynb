{
 "cells": [
  {
   "cell_type": "markdown",
   "metadata": {},
   "source": [
    "# Magnetic Coins\n",
    "\n",
    "There are two urns, x and y. And there are 1 million magnetic coins.\n",
    "\n",
    "First, in each urn, you put one coin.\n",
    "\n",
    "Now, each following coin is thrown in the air and will be attracted by the magnetic mass of the urns, following:\n",
    "* Prob(urn_x) = x / (x + y)\n",
    "* Prob(urn_y) = y / (x + y)\n",
    "\n",
    "Q: How much are you willing to pay upfront for the urn with the lower amount of coins?"
   ]
  },
  {
   "cell_type": "code",
   "execution_count": 138,
   "metadata": {},
   "outputs": [],
   "source": [
    "# Libraries\n",
    "from random import choices\n",
    "import copy\n",
    "\n",
    "import pandas as pd\n",
    "import seaborn as sns\n"
   ]
  },
  {
   "cell_type": "code",
   "execution_count": 129,
   "metadata": {},
   "outputs": [],
   "source": [
    "# Settings\n",
    "n_coins = 10**6\n",
    "\n",
    "n_samples = 100\n",
    "\n",
    "urn = {\"x\":1, \"y\":1}\n"
   ]
  },
  {
   "cell_type": "code",
   "execution_count": 130,
   "metadata": {},
   "outputs": [],
   "source": [
    "# Create dict of samples\n",
    "urn_simu = {i:copy.deepcopy(urn) for i in range(n_samples)}\n"
   ]
  },
  {
   "cell_type": "code",
   "execution_count": 131,
   "metadata": {},
   "outputs": [],
   "source": [
    "# Simulate\n",
    "\n",
    "for s in range(n_samples):\n",
    "\n",
    "    for i in range(n_coins - 2):\n",
    "\n",
    "        # Calc probs\n",
    "        prob_x = urn_simu[s][\"x\"] / (urn_simu[s][\"x\"] + urn_simu[s][\"y\"])\n",
    "        prob_y = 1 - prob_x\n",
    "\n",
    "        # Draw random - (x, y)\n",
    "        urn_i = choices([\"x\",\"y\"], weights = (prob_x, prob_y), k=1)\n",
    "\n",
    "        # Add coin to urn\n",
    "        urn_simu[s][urn_i[0]] += 1\n",
    "\n",
    "    "
   ]
  },
  {
   "cell_type": "code",
   "execution_count": 132,
   "metadata": {},
   "outputs": [],
   "source": [
    "# Transform to dataframe for easier transformation and plotting\n",
    "df_res = pd.DataFrame.from_dict(urn_simu, orient='index')\n",
    "\n",
    "df_res[\"min\"] = df_res[[\"x\", \"y\"]].min(axis = 1)"
   ]
  },
  {
   "cell_type": "code",
   "execution_count": 136,
   "metadata": {},
   "outputs": [
    {
     "data": {
      "text/html": [
       "<div>\n",
       "<style scoped>\n",
       "    .dataframe tbody tr th:only-of-type {\n",
       "        vertical-align: middle;\n",
       "    }\n",
       "\n",
       "    .dataframe tbody tr th {\n",
       "        vertical-align: top;\n",
       "    }\n",
       "\n",
       "    .dataframe thead th {\n",
       "        text-align: right;\n",
       "    }\n",
       "</style>\n",
       "<table border=\"1\" class=\"dataframe\">\n",
       "  <thead>\n",
       "    <tr style=\"text-align: right;\">\n",
       "      <th></th>\n",
       "      <th>x</th>\n",
       "      <th>y</th>\n",
       "      <th>min</th>\n",
       "    </tr>\n",
       "  </thead>\n",
       "  <tbody>\n",
       "    <tr>\n",
       "      <th>count</th>\n",
       "      <td>100.000000</td>\n",
       "      <td>100.000000</td>\n",
       "      <td>100.000000</td>\n",
       "    </tr>\n",
       "    <tr>\n",
       "      <th>mean</th>\n",
       "      <td>457151.350000</td>\n",
       "      <td>542848.650000</td>\n",
       "      <td>253226.870000</td>\n",
       "    </tr>\n",
       "    <tr>\n",
       "      <th>std</th>\n",
       "      <td>281247.165845</td>\n",
       "      <td>281247.165845</td>\n",
       "      <td>139436.085535</td>\n",
       "    </tr>\n",
       "    <tr>\n",
       "      <th>min</th>\n",
       "      <td>7018.000000</td>\n",
       "      <td>1927.000000</td>\n",
       "      <td>1927.000000</td>\n",
       "    </tr>\n",
       "    <tr>\n",
       "      <th>25%</th>\n",
       "      <td>219132.500000</td>\n",
       "      <td>292082.750000</td>\n",
       "      <td>140265.250000</td>\n",
       "    </tr>\n",
       "    <tr>\n",
       "      <th>50%</th>\n",
       "      <td>410327.000000</td>\n",
       "      <td>589673.000000</td>\n",
       "      <td>236464.500000</td>\n",
       "    </tr>\n",
       "    <tr>\n",
       "      <th>75%</th>\n",
       "      <td>707917.250000</td>\n",
       "      <td>780867.500000</td>\n",
       "      <td>358160.500000</td>\n",
       "    </tr>\n",
       "    <tr>\n",
       "      <th>max</th>\n",
       "      <td>998073.000000</td>\n",
       "      <td>992982.000000</td>\n",
       "      <td>498643.000000</td>\n",
       "    </tr>\n",
       "  </tbody>\n",
       "</table>\n",
       "</div>"
      ],
      "text/plain": [
       "                   x              y            min\n",
       "count     100.000000     100.000000     100.000000\n",
       "mean   457151.350000  542848.650000  253226.870000\n",
       "std    281247.165845  281247.165845  139436.085535\n",
       "min      7018.000000    1927.000000    1927.000000\n",
       "25%    219132.500000  292082.750000  140265.250000\n",
       "50%    410327.000000  589673.000000  236464.500000\n",
       "75%    707917.250000  780867.500000  358160.500000\n",
       "max    998073.000000  992982.000000  498643.000000"
      ]
     },
     "execution_count": 136,
     "metadata": {},
     "output_type": "execute_result"
    }
   ],
   "source": [
    "# Summary statistics\n",
    "df_res.describe()"
   ]
  },
  {
   "cell_type": "code",
   "execution_count": 137,
   "metadata": {},
   "outputs": [
    {
     "data": {
      "text/plain": [
       "<Axes: xlabel='min', ylabel='Count'>"
      ]
     },
     "execution_count": 137,
     "metadata": {},
     "output_type": "execute_result"
    },
    {
     "data": {
      "image/png": "[encoded data removed]",
      "text/plain": [
       "<Figure size 640x480 with 1 Axes>"
      ]
     },
     "metadata": {},
     "output_type": "display_data"
    }
   ],
   "source": [
    "# Inspect results in histogram\n",
    "sns.histplot(df_res[\"min\"])"
   ]
  }
 ],
 "metadata": {
  "kernelspec": {
   "display_name": ".venv",
   "language": "python",
   "name": "python3"
  },
  "language_info": {
   "codemirror_mode": {
    "name": "ipython",
    "version": 3
   },
   "file_extension": ".py",
   "mimetype": "text/x-python",
   "name": "python",
   "nbconvert_exporter": "python",
   "pygments_lexer": "ipython3",
   "version": "3.8.10"
  }
 },
 "nbformat": 4,
 "nbformat_minor": 2
}
