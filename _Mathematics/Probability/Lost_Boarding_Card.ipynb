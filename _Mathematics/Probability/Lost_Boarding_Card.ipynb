{
 "cells": [
  {
   "cell_type": "markdown",
   "metadata": {},
   "source": [
    "# The lost boarding card\n",
    "\n",
    "There are 100 people about to board the plane. The first person to board lost its boarding card.\n",
    "\n",
    "Now, the first person will choose a seat at random.\n",
    "Every following person will do either:\n",
    "* If their assigned seat is taken, take a random other seat\n",
    "* If their assigned seat is unoccupied, take it.\n",
    "\n",
    "Q: What is the probability of the last person to board to take a seat on its assigned seat?\n",
    "\n",
    "\n",
    "*Status:* Unfinished! Cannot replicate the theoratical probability."
   ]
  },
  {
   "cell_type": "code",
   "execution_count": 144,
   "metadata": {},
   "outputs": [],
   "source": [
    "# Libraries\n",
    "from random import choices, sample\n",
    "\n",
    "import numpy as np"
   ]
  },
  {
   "cell_type": "code",
   "execution_count": 145,
   "metadata": {},
   "outputs": [],
   "source": [
    "# Settings\n",
    "n_passengers = 100\n",
    "\n",
    "n_samples = 1000"
   ]
  },
  {
   "cell_type": "code",
   "execution_count": 146,
   "metadata": {},
   "outputs": [],
   "source": [
    "# Setup\n",
    "\n",
    "# Store seat of last passenger for each sample\n",
    "seat_last_passenger = [0 for i in range(n_samples)]"
   ]
  },
  {
   "cell_type": "code",
   "execution_count": 147,
   "metadata": {},
   "outputs": [],
   "source": [
    "for s in range(n_samples):\n",
    "\n",
    "    # Setup\n",
    "    # There are no empty seats on the plane\n",
    "    plane_seats = [i for i in range(n_passengers)]\n",
    "\n",
    "    # Each passenger is assigned a seat\n",
    "    boarding_tickets = [i for i in range(n_passengers)]\n",
    "\n",
    "    # Each passenger takes a seat - either at random or according to their boarding ticket\n",
    "    seat_taken = [0 for i in range(n_passengers)]\n",
    "\n",
    "    # Seat the first passenger at random\n",
    "\n",
    "    # Determine which seats are not taken yet\n",
    "    seats_unoccupied = [i for i in range(n_passengers) if seat_taken[i] == 0]\n",
    "\n",
    "    # Take a random seat\n",
    "    seat_i = choices(seats_unoccupied, k = 1)[0]\n",
    "\n",
    "    seat_taken[seat_i] = 1\n",
    "\n",
    "    # Seat all other passengers - in random order\n",
    "\n",
    "    for i in sample([i for i in range(1, n_passengers)], k = n_passengers -1):\n",
    "\n",
    "        # Determine which seats are not taken yet\n",
    "        seats_unoccupied = [i for i in range(n_passengers) if seat_taken[i] == 0]\n",
    "\n",
    "        # Get the resevered / assigned seat for passenger i\n",
    "        if boarding_tickets[i] in seats_unoccupied:\n",
    "            seat_i = boarding_tickets[i] \n",
    "            # Sit down in assigned seat\n",
    "            seat_taken[seat_i] = i\n",
    "        else:\n",
    "            # Take a random seat\n",
    "            seat_i = choices(seats_unoccupied, k = 1)[0]\n",
    "\n",
    "            seat_taken[seat_i] = i\n",
    "\n",
    "    # Determine seat of last passenger\n",
    "    seat_last_passenger[s] = [i for i in range(n_passengers) if seat_taken[i] == n_passengers - 1][0]\n",
    "\n"
   ]
  },
  {
   "cell_type": "code",
   "execution_count": 156,
   "metadata": {},
   "outputs": [
    {
     "data": {
      "text/plain": [
       "set()"
      ]
     },
     "execution_count": 156,
     "metadata": {},
     "output_type": "execute_result"
    }
   ],
   "source": [
    "# Check if simulation is correct\n",
    "\n",
    "# There is no missing seat number\n",
    "set(seat_taken).difference(set([i for i in range(n_passengers)]))\n",
    "\n"
   ]
  },
  {
   "cell_type": "code",
   "execution_count": 153,
   "metadata": {},
   "outputs": [
    {
     "name": "stdout",
     "output_type": "stream",
     "text": [
      "The last passenger sits on their seat in 95.71% of all scenarios. The theoratical probability amounts to 50%.\n"
     ]
    }
   ],
   "source": [
    "# Count number of scenarios where the last passenger is seated on their assigned seat No. 99\n",
    "prob_assigned_seat = np.mean([1 if i == 99 else 0 for i in seat_last_passenger])\n",
    "\n",
    "txt = \"The last passenger sits on their seat in {prob_assigned_seat:.2%} of all scenarios. The theoratical probability amounts to 50%.\"\n",
    "\n",
    "print(txt.format(prob_assigned_seat = prob_assigned_seat))"
   ]
  }
 ],
 "metadata": {
  "kernelspec": {
   "display_name": ".venv",
   "language": "python",
   "name": "python3"
  },
  "language_info": {
   "codemirror_mode": {
    "name": "ipython",
    "version": 3
   },
   "file_extension": ".py",
   "mimetype": "text/x-python",
   "name": "python",
   "nbconvert_exporter": "python",
   "pygments_lexer": "ipython3",
   "version": "3.8.10"
  }
 },
 "nbformat": 4,
 "nbformat_minor": 2
}
