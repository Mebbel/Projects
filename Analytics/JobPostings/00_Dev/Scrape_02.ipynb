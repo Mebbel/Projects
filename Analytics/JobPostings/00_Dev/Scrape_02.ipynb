{
 "metadata": {
  "language_info": {
   "codemirror_mode": {
    "name": "ipython",
    "version": 3
   },
   "file_extension": ".py",
   "mimetype": "text/x-python",
   "name": "python",
   "nbconvert_exporter": "python",
   "pygments_lexer": "ipython3",
   "version": "3.7.4"
  },
  "orig_nbformat": 2,
  "kernelspec": {
   "name": "python3",
   "display_name": "Python 3.7.4 64-bit",
   "metadata": {
    "interpreter": {
     "hash": "6f8f8dfa3d6290feb0c1028a85bed96da6057876656056d6327598ed79055708"
    }
   }
  }
 },
 "nbformat": 4,
 "nbformat_minor": 2,
 "cells": [
  {
   "cell_type": "code",
   "execution_count": null,
   "metadata": {},
   "outputs": [],
   "source": [
    "# Reference: https://towardsdatascience.com/web-scraping-job-postings-from-indeed-com-using-selenium-5ae58d155daf\n",
    "\n",
    "# Idea -> Use both appraoches\n",
    "# Crawl general information with appraoch from Scrape_01\n",
    "# And access hyperlinks with selenium.webdriver!\n",
    "\n",
    "# With this way, we can filter out job titles, that we are not interested in and focus on the relevant ones!\n",
    "# i.e. filter out \"Praktikum\", \"Data Entry\", etc.\n",
    "\n"
   ]
  },
  {
   "cell_type": "code",
   "execution_count": 8,
   "metadata": {},
   "outputs": [],
   "source": [
    "from selenium.webdriver.common.by import By\n",
    "from selenium import webdriver\n",
    "from selenium.webdriver.common.keys import Keys\n",
    "from selenium.webdriver.support.ui import WebDriverWait\n",
    "from selenium.webdriver.support import expected_conditions as EC\n"
   ]
  },
  {
   "cell_type": "code",
   "execution_count": 36,
   "metadata": {},
   "outputs": [],
   "source": [
    "import urllib\n",
    "import time\n",
    "import pandas as pd"
   ]
  },
  {
   "cell_type": "code",
   "execution_count": 5,
   "metadata": {},
   "outputs": [],
   "source": [
    "# List of drivers for different web browsers\n",
    "# https://selenium-python.readthedocs.io/installation.html\n",
    "\n",
    "\n",
    "# !!! I downloaded the windows driver! !!!\n",
    "\n",
    "\n",
    "# Specify path to firefox driver\n",
    "DRIVER_PATH = '../Drivers/geckodriver_windows'\n",
    "driver = webdriver.Firefox(executable_path = DRIVER_PATH)"
   ]
  },
  {
   "cell_type": "code",
   "execution_count": 28,
   "metadata": {},
   "outputs": [
    {
     "output_type": "stream",
     "name": "stdout",
     "text": [
      "https://de.indeed.com/jobs?q=Data+Analyst&l=Berlin&fromage=last&sort=date\n"
     ]
    }
   ],
   "source": [
    "# Navigate to indeed country webpage with prespecified query values\n",
    "# Do not waste time with clicking and advanced searches.\n",
    "indeed_country_url = \"https://de.indeed.com/jobs?\"\n",
    "job_title = \"Data Analyst\"\n",
    "location = \"Berlin\"\n",
    "n_page = 1\n",
    "\n",
    "getVars = {'q' : job_title, 'l' : location, 'fromage' : 'last', 'sort' : 'date'} #, 'start' : (n_page - 1) * 10\n",
    "url = (indeed_country_url + urllib.parse.urlencode(getVars))\n",
    "print(url)\n",
    "driver.get(url)"
   ]
  },
  {
   "cell_type": "code",
   "execution_count": null,
   "metadata": {},
   "outputs": [],
   "source": [
    "# Take care of popups!\n",
    "\n",
    "# Cookie banner!\n",
    "\n",
    "# Newsletter!\n",
    "# close_popup = driver.find_element_by_id(\"popover-close-link\")\n",
    "# close_popup.click()"
   ]
  },
  {
   "cell_type": "code",
   "execution_count": 31,
   "metadata": {},
   "outputs": [
    {
     "output_type": "stream",
     "name": "stdout",
     "text": [
      "Page: 1\n",
      "https://de.indeed.com/jobs?q=Data+Analyst&l=Berlin&fromage=last&sort=date&start=10\n",
      "Page: 2\n",
      "https://de.indeed.com/jobs?q=Data+Analyst&l=Berlin&fromage=last&sort=date&start=20\n",
      "Page: 3\n",
      "https://de.indeed.com/jobs?q=Data+Analyst&l=Berlin&fromage=last&sort=date&start=30\n"
     ]
    }
   ],
   "source": [
    "# Get information from jobcards\n",
    "\n",
    "driver.implicitly_wait(3)\n",
    "\n",
    "titles=[]\n",
    "companies=[]\n",
    "locations=[]\n",
    "links =[]\n",
    "reviews=[]\n",
    "salaries = []\n",
    "\n",
    "\n",
    "\n",
    "for i in range(0,3):\n",
    "\n",
    "    print(\"Page: {}\".format(str(i+1)))\n",
    "    \n",
    "    job_card = driver.find_elements_by_xpath('//div[contains(@class,\"clickcard\")]')\n",
    "    \n",
    "    for job in job_card:\n",
    "       \n",
    "    #.  not all companies have review\n",
    "        try:\n",
    "            review = job.find_element_by_xpath('.//span[@class=\"ratingsContent\"]').text\n",
    "        except:\n",
    "            review = \"None\"\n",
    "        reviews.append(review)\n",
    "   #.   not all positions have salary\n",
    "        try:\n",
    "            salary = job.find_element_by_xpath('.//span[@class=\"salaryText\"]').text\n",
    "        except:\n",
    "            salary = \"None\"\n",
    "    #.  tells only to look at the element       \n",
    "        salaries.append(salary)\n",
    "        \n",
    "        try:\n",
    "            location = job.find_element_by_xpath('.//span[contains(@class,\"location\")]').text\n",
    "        except:\n",
    "            location = \"None\"\n",
    "    #.  tells only to look at the element       \n",
    "        locations.append(location)\n",
    "        \n",
    "        try:\n",
    "            title  = job.find_element_by_xpath('.//h2[@class=\"title\"]//a').text\n",
    "        except:\n",
    "            title = job.find_element_by_xpath('.//h2[@class=\"title\"]//a').get_attribute(name=\"title\")\n",
    "        titles.append(title)\n",
    "        links.append(job.find_element_by_xpath('.//h2[@class=\"title\"]//a').get_attribute(name=\"href\"))\n",
    "        companies.append(job.find_element_by_xpath('.//span[@class=\"company\"]').text)\n",
    "        \n",
    "    # Do not click for next page, just load it! :D\n",
    "    url_loop = url + \"&start=\" + str((i + 1) * 10)\n",
    "    print(url_loop)\n",
    "    try:\n",
    "        driver.get(url_loop)\n",
    "    except:\n",
    "        break\n",
    "\n",
    "    time.sleep(0.5) # Do not overshoot!\n",
    "\n",
    "\n",
    "    # try:\n",
    "    #     next_page = driver.find_element_by_xpath('//a[@aria-label={}]//span[@class=\"pn\"]'.format(i+2))\n",
    "    #     next_page.click()\n",
    "\n",
    "    # except:\n",
    "\n",
    "    #     try:\n",
    "    #         next_page = driver.find_element_by_xpath('//a[@aria-label=\"Next\"]//span[@class=\"np\"]')\n",
    "    #         next_page.click()\n",
    "    #     except:\n",
    "    #         next_page = driver.find_element_by_xpath('//a[@aria-label=\"Weiter\"]//span[@class=\"pn\"]')\n",
    "    #         next_page.click()\n",
    "\n",
    "    # Depending on language of indeed website, there can be \"weiter\" or a random order of np / pn classes.\n",
    "\n",
    "    #except:\n",
    "        #next_page = driver.find_element_by_xpath('//a[.//span[contains(text(),\"Next\")]]')\n",
    "        #next_page.click()\n",
    "        \n",
    "    \n",
    "    \n",
    "\n"
   ]
  },
  {
   "cell_type": "code",
   "execution_count": 34,
   "metadata": {},
   "outputs": [
    {
     "output_type": "stream",
     "name": "stdout",
     "text": [
      "https://de.indeed.com/rc/clk?jk=984bfe5affaf05b6&fccid=40aeec9ab4c6bacc&vjs=3\n",
      "https://de.indeed.com/rc/clk?jk=654c02551a76c0cd&fccid=9f3083d57395942b&vjs=3\n",
      "https://de.indeed.com/rc/clk?jk=5234276f444e99ca&fccid=09704f60e923fb83&vjs=3\n",
      "https://de.indeed.com/rc/clk?jk=af2ab965f6fe44ab&fccid=04ef9247542a6c50&vjs=3\n",
      "https://de.indeed.com/rc/clk?jk=84c160c0e9bd168a&fccid=9514e4bb9d86329e&vjs=3\n",
      "https://de.indeed.com/rc/clk?jk=b75d8156937efd38&fccid=18ff0230d75e9a90&vjs=3\n",
      "https://de.indeed.com/rc/clk?jk=45503cb8b7054075&fccid=d519a1d6f9bfd5e2&vjs=3\n",
      "https://de.indeed.com/rc/clk?jk=ba680a4dcdf5b611&fccid=9f3083d57395942b&vjs=3\n",
      "https://de.indeed.com/rc/clk?jk=bdc5ebb19134b905&fccid=6fa5cbc87f52e4e1&vjs=3\n",
      "https://de.indeed.com/rc/clk?jk=b357b3698882ceee&fccid=d1ba96e1329c2594&vjs=3\n",
      "https://de.indeed.com/rc/clk?jk=7f39f2435aee5c79&fccid=35678f1e8c0a77cb&vjs=3\n",
      "https://de.indeed.com/rc/clk?jk=17df081ab6d05a2b&fccid=3228946bc134183e&vjs=3\n",
      "https://de.indeed.com/rc/clk?jk=5311bdf2a0ab44c2&fccid=10da2bb494bc3bf1&vjs=3\n",
      "https://de.indeed.com/rc/clk?jk=b43d1401e1414557&fccid=95485c6456ed2114&vjs=3\n",
      "https://de.indeed.com/rc/clk?jk=364f0d4bf4099b6b&fccid=d0f839b016c428cc&vjs=3\n",
      "https://de.indeed.com/rc/clk?jk=17a3f9891a0a08af&fccid=facdb553e76e7587&vjs=3\n",
      "https://de.indeed.com/rc/clk?jk=ce907b482903de2b&fccid=1f8bf0057836ab12&vjs=3\n",
      "https://de.indeed.com/rc/clk?jk=d1fe048b135e8a9d&fccid=3228946bc134183e&vjs=3\n",
      "https://de.indeed.com/rc/clk?jk=c49c0ce1338a0833&fccid=40aeec9ab4c6bacc&vjs=3\n",
      "https://de.indeed.com/rc/clk?jk=95e15722bb6f2e50&fccid=0da3ed18c20a248d&vjs=3\n",
      "https://de.indeed.com/rc/clk?jk=8c8429ec6eaf8948&fccid=a429e7d63b497c33&vjs=3\n",
      "https://de.indeed.com/rc/clk?jk=f0f51e4ef23cf786&fccid=d2e5d09cd255696f&vjs=3\n",
      "https://de.indeed.com/rc/clk?jk=1566db4a3c6f15ae&fccid=0585465fafb7f125&vjs=3\n",
      "https://de.indeed.com/rc/clk?jk=bb48a2fcb08e4555&fccid=66bd07bf288896f8&vjs=3\n",
      "https://de.indeed.com/rc/clk?jk=3e20208c4e1d823d&fccid=d945bab513bef0db&vjs=3\n",
      "https://de.indeed.com/rc/clk?jk=f79131ddabb457e3&fccid=e51d0777616182a5&vjs=3\n",
      "https://de.indeed.com/rc/clk?jk=3b79fded62c6aafb&fccid=e76dadb9a0d8a2cf&vjs=3\n",
      "https://de.indeed.com/rc/clk?jk=f06e7a823f15ab28&fccid=71baa4b461ef97eb&vjs=3\n",
      "https://de.indeed.com/rc/clk?jk=c7e05ba57fb331fc&fccid=a29d5a75868b2449&vjs=3\n",
      "https://de.indeed.com/rc/clk?jk=7e71e985d77c382e&fccid=a0e0f1df457b8e26&vjs=3\n",
      "https://de.indeed.com/rc/clk?jk=7e71e985d77c382e&fccid=a0e0f1df457b8e26&vjs=3\n",
      "https://de.indeed.com/rc/clk?jk=9099252383f56c05&fccid=d98d6848b0279cec&vjs=3\n",
      "https://de.indeed.com/rc/clk?jk=e51aaae4f8aa20e0&fccid=1b5d0c2b84abb5fe&vjs=3\n",
      "https://de.indeed.com/rc/clk?jk=31d50767edef92db&fccid=1155e5241ffdb410&vjs=3\n",
      "https://de.indeed.com/rc/clk?jk=cbdebd2f4334d196&fccid=b7e5ff9e769e3e3f&vjs=3\n",
      "https://de.indeed.com/rc/clk?jk=a36707edc9a8888d&fccid=0772b8c7279b8c12&vjs=3\n",
      "https://de.indeed.com/rc/clk?jk=37f2dd81f5c5abf9&fccid=6dadce2139fcb914&vjs=3\n",
      "https://de.indeed.com/rc/clk?jk=e43a69d4b179371d&fccid=a1029eeac9e4c3e5&vjs=3\n",
      "https://de.indeed.com/rc/clk?jk=968e59b833bb0336&fccid=b7505b3fcef72635&vjs=3\n",
      "https://de.indeed.com/rc/clk?jk=daa73fa5bcf8bf50&fccid=ee6a99db163236c2&vjs=3\n",
      "https://de.indeed.com/rc/clk?jk=363147170a0ba973&fccid=1b5d0c2b84abb5fe&vjs=3\n",
      "https://de.indeed.com/rc/clk?jk=cc293100407a8b9f&fccid=8d7e6ea53bb56cf5&vjs=3\n",
      "https://de.indeed.com/rc/clk?jk=0752bba8e8bc709e&fccid=a29d5a75868b2449&vjs=3\n",
      "https://de.indeed.com/company/Streem.ai/jobs/Data-Science-Intern-Working-Student-de813fe255c0aa6d?fccid=72d84fb80b134bdb&vjs=3\n",
      "https://de.indeed.com/rc/clk?jk=dd9ad1c6892e7292&fccid=9f3083d57395942b&vjs=3\n"
     ]
    }
   ],
   "source": [
    "# Get job descriptions from each link\n",
    "descriptions=[]\n",
    "for link in links:\n",
    "    print(link)\n",
    "    driver.get(link)\n",
    "    driver.implicitly_wait(0.5)\n",
    "    jd = driver.find_element_by_xpath('//div[@id=\"jobDescriptionText\"]').text\n",
    "    descriptions.append(jd)\n",
    "    time.sleep(1) # Slow down!\n"
   ]
  },
  {
   "cell_type": "code",
   "execution_count": 47,
   "metadata": {},
   "outputs": [],
   "source": [
    "# descriptions = descriptions.pop(0)"
   ]
  },
  {
   "cell_type": "code",
   "execution_count": 48,
   "metadata": {},
   "outputs": [],
   "source": [
    "df = pd.DataFrame()\n",
    "df['Title'] = titles\n",
    "df['Company'] = companies\n",
    "df['Location'] = locations\n",
    "df['Link'] = links\n",
    "df['Review'] = reviews\n",
    "df['Salary'] = salaries\n",
    "df['Description'] = descriptions"
   ]
  },
  {
   "cell_type": "code",
   "execution_count": 50,
   "metadata": {
    "tags": []
   },
   "outputs": [
    {
     "output_type": "stream",
     "name": "stdout",
     "text": [
      "About Fraugster:\nFraugster’s purpose is to reduce the spiralling levels of online fraud, estimated to reach $1 Trillion by the end of 2021. Our mission is to protect companies selling online, and intelligently manage the impacts of fraud on their business and their customers. We do this by using advanced AI to spot patterns of fraudulent behaviour, and stop them. The combination of our expertise and technology makes us one of the most accurate solutions in the market, and our ambition is to set a new standard of online trust, globally. Our customers are some of the worlds largest payment companies and most renowned brands in e-commerce, and we have the backing of Europe's premier tech funds (Speedinvest, CommerzVentures, Munich Re Ventures and Earlybird). We are a very diverse bunch of technologists and problem solvers from over 25 countries across the globe. Our culture is defined by intellectual curiosity, teamwork and a passion for solving complex problems. If this sounds like an environment you would like to be part of, we would love to hear from you.\n\nJob Description:\nAs our Fraud Analyst (f/m/x) you join our Fraud Analytics team: a team of international professionals integral to our success as a company.\nFraud Analytics at Fraugster means being responsible for ensuring that effective and efficient fraud management strategies contribute to the healthy operations of our customers’ and partners’ businesses.\nYou are tasked with highly intricate data manipulation, logic automation and monitoring of evolving fraud trends. Working with colleagues from an array of backgrounds including data science, psychology, and software programming, you’ll devise new strategies to constantly optimize one of the most advanced AI systems in existence, making sure that our customer’s business benefit from it. Whatever field you’ll take, the goal is the same – crush online fraud.\nIn parallel you may also interact with customers to understand their pain points and provide the best security solution the market can offer. We’re looking for analytical minds with a penchant for story-telling, puzzle-solving, and able combine creative and critical thinking skills to identify behavior patterns. Sound like you? Join us.\n\nSkills & Requirements:\nExperience in data manipulation and analysis with SQL, be it in academic projects or work experience\nStrong interest in technology - Previous experience with Python is a big plus\nProven analytical skills-whether it’s a high SAT or GMAT score, an aced case challenge, or a math championship, let us know where you shine\nProven task management skills, ability to organize work and stick to the agreed deadlines\nFluent in business English, a second European language is a plus - our customers are global!; great verbal and written communication skills\nBachelor degree is preferred\n\nWhat we offer:\nA fast-growing company with plenty of room to leave your mark\nParticipate in our “Fraud Academy” – go through our Payments and Fraud training courses to become an industry expert\nHands-on training on various skills: online financial fraud, research on various data platforms and technologies, brainstorming & problem solving, prototype building & project managing\nFun, creative, diverse and focused teams committed to learning and problem-solving through collaboration\nCompetitive remuneration including virtual company shares\nFlexible working hours, family support and remote-work opportunities as well as full support for family/private “situations” through flexible parental & compassionate leave policies\nDiversity and feedback workshops on a monthly basis\nA Learning & Development culture that includes educational budget and educational leave\nAccess to free German classes catering to 4 skill levels (A1, A2, B1, B2)\nA safe space to openly share mistakes and “lessons learned” with each other\nA standing invitation to initiate and participate in activities to shape and push the boundaries of our workplace culture\n\nWe know that diverse teams are strong teams, and welcome those with all identities, backgrounds, and experiences. See our mention in Talent’s post on Equity, Diversity and Inclusion here.\nUpon clicking \"Send\", you will submit your contact details and CV. For more information on how Fraugster processes your information, click here. Processing is based on your consent and you may withdraw it at any time.\n"
     ]
    }
   ],
   "source": [
    "print(df)"
   ]
  }
 ]
}